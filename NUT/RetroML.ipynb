{
 "cells": [
  {
   "cell_type": "code",
   "execution_count": 29,
   "metadata": {},
   "outputs": [],
   "source": [
    "import numpy as np\n",
    "import pandas as pd\n",
    "from sklearn.preprocessing import StandardScaler\n",
    "from sklearn.model_selection import train_test_split\n",
    "from sklearn.svm import SVR\n",
    "from sklearn.metrics import mean_squared_error, r2_score, mean_absolute_error"
   ]
  },
  {
   "cell_type": "code",
   "execution_count": 30,
   "metadata": {},
   "outputs": [
    {
     "data": {
      "text/plain": [
       "(305, 58)"
      ]
     },
     "execution_count": 30,
     "metadata": {},
     "output_type": "execute_result"
    }
   ],
   "source": [
    "df = pd.read_csv(\"RPGF3Results.csv\")\n",
    "df = df[df['Category: Developer Ecosystem'] == 1]\n",
    "df.shape"
   ]
  },
  {
   "cell_type": "code",
   "execution_count": 31,
   "metadata": {},
   "outputs": [],
   "source": [
    "df.drop(columns=['Project_ID', 'Result: Quorum Reached', 'Meta: Applicant Type','Meta: Website','Meta: Bio','Meta: Payout Address',\t'Category: Collective Governance','Category: Developer Ecosystem','Category: End User Experience and Adoption','Category: OP Stack','Keywords: Base','Keywords: Farcaster','Keywords: Zora','Link: Contract on Base','Link: Contract on OP Mainnet','Link: Dune','Link: Flipside','Link: GitHub','Link: GitHub (duneanalytics)','Link: GitHub (ethereum)','Link: GitHub (ethereum-optimism)','Link: NPM Package','Link: Optimism Gov','Link: Substack','Link: Twitter','GTP: VC Funding Amount','GTP: Has Token', 'GTP: Has VC Funding','Meta: Project Image'], inplace=True)\n",
    "df.to_csv(\"Cleaned_Retro.csv\")"
   ]
  },
  {
   "cell_type": "markdown",
   "metadata": {},
   "source": [
    "Machine Learning Support Vector Regression (SVR)"
   ]
  },
  {
   "cell_type": "code",
   "execution_count": 32,
   "metadata": {},
   "outputs": [
    {
     "name": "stderr",
     "output_type": "stream",
     "text": [
      "/var/folders/rg/45gtrwls705094nr5_p2f7980000gn/T/ipykernel_58558/1227122324.py:2: SettingWithCopyWarning: \n",
      "A value is trying to be set on a copy of a slice from a DataFrame\n",
      "\n",
      "See the caveats in the documentation: https://pandas.pydata.org/pandas-docs/stable/user_guide/indexing.html#returning-a-view-versus-a-copy\n",
      "  df_SVR.fillna(0, inplace=True)\n"
     ]
    }
   ],
   "source": [
    "df_SVR = df[['Result: # Ballots', 'Result: Received OP','OSO: # GitHub Repos','OSO: Total Stars','OSO: Total Forks','OSO: Total Contributors','OSO: Contributors Last 6 Months','OSO: Avg Monthly Active Devs Last 6 Months', 'OSO: Total Onchain Users', 'OSO: Onchain Users Last 6 Months', 'OSO: Total Downloads', 'OSO: Downloads Last 6 Months']]\t\n",
    "df_SVR.fillna(0, inplace=True)\n",
    "# df_SVR.reset_index(inplace=True)\n",
    "df_SVR.to_csv(\"RetroML.csv\")"
   ]
  },
  {
   "cell_type": "code",
   "execution_count": 33,
   "metadata": {},
   "outputs": [],
   "source": [
    "sample_data = {\n",
    "    'Result: # Ballots': [110, 105, 98, 115, 99],\n",
    "    'OSO: # GitHub Repos': [500.0, 120.0, 50.0, 250.0, 300.0],\n",
    "    'OSO: Total Stars': [55000.0, 45000.0, 32000.0, 48000.0, 60000.0],\n",
    "    'OSO: Total Forks': [20000.0, 18000.0, 15000.0, 22000.0, 19000.0],\n",
    "    'OSO: Total Contributors': [25000.0, 20000.0, 18000.0, 23000.0, 26000.0],\n",
    "    'OSO: Contributors Last 6 Months': [2000.0, 1500.0, 1200.0, 1800.0, 2200.0],\n",
    "    'OSO: Avg Monthly Active Devs Last 6 Months': [70.0, 55.0, 40.0, 65.0, 80.0],\n",
    "    'OSO: Total Onchain Users': [5000.0, 3000.0, 2000.0, 4000.0, 6000.0],\n",
    "    'OSO: Onchain Users Last 6 Months': [2000.0, 1000.0, 800.0, 1500.0, 2500.0],\n",
    "    'OSO: Total Downloads': [20000000.0, 15000000.0, 12000000.0, 18000000.0, 22000000.0],\n",
    "    'OSO: Downloads Last 6 Months': [8000000.0, 6000000.0, 5000000.0, 7000000.0, 9000000.0]\n",
    "}\n",
    "\n",
    "new_data = pd.DataFrame(sample_data)"
   ]
  },
  {
   "cell_type": "markdown",
   "metadata": {},
   "source": [
    "## Bad Model SVR"
   ]
  },
  {
   "cell_type": "code",
   "execution_count": 36,
   "metadata": {},
   "outputs": [
    {
     "name": "stdout",
     "output_type": "stream",
     "text": [
      "Predictions for 'Received OP' on new data:\n",
      "[44802.63576242 44804.18057438 44800.98873747 44805.04099013\n",
      " 44802.914014  ]\n",
      "Training Set Metrics:\n",
      "Mean Squared Error (MSE): 6774633430.581138\n",
      "Mean Absolute Error (MAE): 47169.547337766264\n",
      "R-squared (R2): -0.04620125723357105\n",
      "\n",
      "Test Set Metrics:\n",
      "Mean Squared Error (MSE): 4198733630.7469563\n",
      "Mean Absolute Error (MAE): 44272.591723964455\n",
      "R-squared (R2): -0.043595602105611864\n"
     ]
    }
   ],
   "source": [
    "X = df_SVR.drop(columns=['Result: Received OP'])\n",
    "y = df_SVR['Result: Received OP']\n",
    "\n",
    "X_train, X_test, y_train, y_test = train_test_split(X, y, test_size=0.2, random_state=42)\n",
    "\n",
    "scaler = StandardScaler()\n",
    "X_train_scaled = scaler.fit_transform(X_train)\n",
    "X_test_scaled = scaler.transform(X_test)\n",
    "\n",
    "svr_model = SVR(kernel='sigmoid')\n",
    "\n",
    "svr_model.fit(X_train_scaled, y_train)\n",
    "\n",
    "new_data_scaled = scaler.transform(new_data)\n",
    "\n",
    "new_predictions = svr_model.predict(new_data_scaled)\n",
    "\n",
    "print(\"Predictions for 'Received OP' on new data:\")\n",
    "print(new_predictions)\n",
    "\n",
    "y_pred_train = svr_model.predict(X_train_scaled)\n",
    "y_pred_test = svr_model.predict(X_test_scaled)\n",
    "\n",
    "mse_train = mean_squared_error(y_train, y_pred_train)\n",
    "mse_test = mean_squared_error(y_test, y_pred_test)\n",
    "\n",
    "mae_train = mean_absolute_error(y_train, y_pred_train)\n",
    "mae_test = mean_absolute_error(y_test, y_pred_test)\n",
    "\n",
    "r2_train = r2_score(y_train, y_pred_train)\n",
    "r2_test = r2_score(y_test, y_pred_test)\n",
    "\n",
    "print(\"Training Set Metrics:\")\n",
    "print(\"Mean Squared Error (MSE):\", mse_train)\n",
    "print(\"Mean Absolute Error (MAE):\", mae_train)\n",
    "print(\"R-squared (R2):\", r2_train)\n",
    "\n",
    "print(\"\\nTest Set Metrics:\")\n",
    "print(\"Mean Squared Error (MSE):\", mse_test)\n",
    "print(\"Mean Absolute Error (MAE):\", mae_test)\n",
    "print(\"R-squared (R2):\", r2_test)"
   ]
  },
  {
   "cell_type": "code",
   "execution_count": 37,
   "metadata": {},
   "outputs": [],
   "source": [
    "from sklearn.ensemble import RandomForestRegressor"
   ]
  },
  {
   "cell_type": "markdown",
   "metadata": {},
   "source": [
    "## Good Model Random Forest"
   ]
  },
  {
   "cell_type": "code",
   "execution_count": 38,
   "metadata": {},
   "outputs": [
    {
     "name": "stdout",
     "output_type": "stream",
     "text": [
      "Predictions for 'Received OP' on new data using Random Forest Regression:\n",
      "[567058.9369  541621.5789  431042.9252  567067.645   539623.50655]\n",
      "Mean Squared Error (MSE): 303736035.4864538\n",
      "Root Mean Squared Error (RMSE): 17428.02442867389\n",
      "Mean Absolute Error (MAE): 11903.241086456073\n",
      "R-squared (R2): 0.9245063824688811\n"
     ]
    }
   ],
   "source": [
    "scaler = StandardScaler()\n",
    "X_scaled = scaler.fit_transform(X)\n",
    "\n",
    "rf_model = RandomForestRegressor(n_estimators=200, random_state=42)\n",
    "\n",
    "rf_model.fit(X_scaled, y)\n",
    "\n",
    "new_data_scaled = scaler.transform(new_data)\n",
    "\n",
    "new_predictions = rf_model.predict(new_data_scaled)\n",
    "\n",
    "print(\"Predictions for 'Received OP' on new data using Random Forest Regression:\")\n",
    "print(new_predictions)\n",
    "y_pred = rf_model.predict(X_test_scaled)\n",
    "mse = mean_squared_error(y_test, y_pred)\n",
    "rmse = np.sqrt(mse)\n",
    "mae = mean_absolute_error(y_test, y_pred)\n",
    "r2 = r2_score(y_test, y_pred)\n",
    "\n",
    "print(\"Mean Squared Error (MSE):\", mse)\n",
    "print(\"Root Mean Squared Error (RMSE):\", rmse)\n",
    "print(\"Mean Absolute Error (MAE):\", mae)\n",
    "print(\"R-squared (R2):\", r2)"
   ]
  },
  {
   "cell_type": "markdown",
   "metadata": {},
   "source": [
    "## lightgbm Model"
   ]
  },
  {
   "cell_type": "code",
   "execution_count": 17,
   "metadata": {},
   "outputs": [],
   "source": [
    "import lightgbm as lgb"
   ]
  },
  {
   "cell_type": "code",
   "execution_count": 40,
   "metadata": {},
   "outputs": [
    {
     "name": "stdout",
     "output_type": "stream",
     "text": [
      "[LightGBM] [Info] Auto-choosing row-wise multi-threading, the overhead of testing was 0.000736 seconds.\n",
      "You can set `force_row_wise=true` to remove the overhead.\n",
      "And if memory is not enough, you can set `force_col_wise=true`.\n",
      "[LightGBM] [Info] Total Bins 335\n",
      "[LightGBM] [Info] Number of data points in the train set: 305, number of used features: 11\n",
      "[LightGBM] [Info] Start training from score 61288.599747\n",
      "[LightGBM] [Warning] No further splits with positive gain, best gain: -inf\n",
      "[LightGBM] [Warning] No further splits with positive gain, best gain: -inf\n",
      "[LightGBM] [Warning] No further splits with positive gain, best gain: -inf\n",
      "[LightGBM] [Warning] No further splits with positive gain, best gain: -inf\n",
      "[LightGBM] [Warning] No further splits with positive gain, best gain: -inf\n",
      "[LightGBM] [Warning] No further splits with positive gain, best gain: -inf\n",
      "[LightGBM] [Warning] No further splits with positive gain, best gain: -inf\n",
      "[LightGBM] [Warning] No further splits with positive gain, best gain: -inf\n",
      "[LightGBM] [Warning] No further splits with positive gain, best gain: -inf\n",
      "[LightGBM] [Warning] No further splits with positive gain, best gain: -inf\n",
      "[LightGBM] [Warning] No further splits with positive gain, best gain: -inf\n",
      "[LightGBM] [Warning] No further splits with positive gain, best gain: -inf\n",
      "[LightGBM] [Warning] No further splits with positive gain, best gain: -inf\n",
      "[LightGBM] [Warning] No further splits with positive gain, best gain: -inf\n",
      "[LightGBM] [Warning] No further splits with positive gain, best gain: -inf\n",
      "[LightGBM] [Warning] No further splits with positive gain, best gain: -inf\n",
      "[LightGBM] [Warning] No further splits with positive gain, best gain: -inf\n",
      "[LightGBM] [Warning] No further splits with positive gain, best gain: -inf\n",
      "[LightGBM] [Warning] No further splits with positive gain, best gain: -inf\n",
      "[LightGBM] [Warning] No further splits with positive gain, best gain: -inf\n",
      "[LightGBM] [Warning] No further splits with positive gain, best gain: -inf\n",
      "[LightGBM] [Warning] No further splits with positive gain, best gain: -inf\n",
      "[LightGBM] [Warning] No further splits with positive gain, best gain: -inf\n",
      "[LightGBM] [Warning] No further splits with positive gain, best gain: -inf\n",
      "[LightGBM] [Warning] No further splits with positive gain, best gain: -inf\n",
      "[LightGBM] [Warning] No further splits with positive gain, best gain: -inf\n",
      "[LightGBM] [Warning] No further splits with positive gain, best gain: -inf\n",
      "[LightGBM] [Warning] No further splits with positive gain, best gain: -inf\n",
      "[LightGBM] [Warning] No further splits with positive gain, best gain: -inf\n",
      "[LightGBM] [Warning] No further splits with positive gain, best gain: -inf\n",
      "[LightGBM] [Warning] No further splits with positive gain, best gain: -inf\n",
      "[LightGBM] [Warning] No further splits with positive gain, best gain: -inf\n",
      "[LightGBM] [Warning] No further splits with positive gain, best gain: -inf\n",
      "[LightGBM] [Warning] No further splits with positive gain, best gain: -inf\n",
      "[LightGBM] [Warning] No further splits with positive gain, best gain: -inf\n",
      "[LightGBM] [Warning] No further splits with positive gain, best gain: -inf\n",
      "[LightGBM] [Warning] No further splits with positive gain, best gain: -inf\n",
      "[LightGBM] [Warning] No further splits with positive gain, best gain: -inf\n",
      "[LightGBM] [Warning] No further splits with positive gain, best gain: -inf\n",
      "[LightGBM] [Warning] No further splits with positive gain, best gain: -inf\n",
      "[LightGBM] [Warning] No further splits with positive gain, best gain: -inf\n",
      "[LightGBM] [Warning] No further splits with positive gain, best gain: -inf\n",
      "[LightGBM] [Warning] No further splits with positive gain, best gain: -inf\n",
      "[LightGBM] [Warning] No further splits with positive gain, best gain: -inf\n",
      "[LightGBM] [Warning] No further splits with positive gain, best gain: -inf\n",
      "[LightGBM] [Warning] No further splits with positive gain, best gain: -inf\n",
      "[LightGBM] [Warning] No further splits with positive gain, best gain: -inf\n",
      "[LightGBM] [Warning] No further splits with positive gain, best gain: -inf\n",
      "[LightGBM] [Warning] No further splits with positive gain, best gain: -inf\n",
      "[LightGBM] [Warning] No further splits with positive gain, best gain: -inf\n",
      "[LightGBM] [Warning] No further splits with positive gain, best gain: -inf\n",
      "[LightGBM] [Warning] No further splits with positive gain, best gain: -inf\n",
      "[LightGBM] [Warning] No further splits with positive gain, best gain: -inf\n",
      "[LightGBM] [Warning] No further splits with positive gain, best gain: -inf\n",
      "[LightGBM] [Warning] No further splits with positive gain, best gain: -inf\n",
      "[LightGBM] [Warning] No further splits with positive gain, best gain: -inf\n",
      "[LightGBM] [Warning] No further splits with positive gain, best gain: -inf\n",
      "[LightGBM] [Warning] No further splits with positive gain, best gain: -inf\n",
      "[LightGBM] [Warning] No further splits with positive gain, best gain: -inf\n",
      "[LightGBM] [Warning] No further splits with positive gain, best gain: -inf\n",
      "[LightGBM] [Warning] No further splits with positive gain, best gain: -inf\n",
      "[LightGBM] [Warning] No further splits with positive gain, best gain: -inf\n",
      "[LightGBM] [Warning] No further splits with positive gain, best gain: -inf\n",
      "[LightGBM] [Warning] No further splits with positive gain, best gain: -inf\n",
      "[LightGBM] [Warning] No further splits with positive gain, best gain: -inf\n",
      "[LightGBM] [Warning] No further splits with positive gain, best gain: -inf\n",
      "[LightGBM] [Warning] No further splits with positive gain, best gain: -inf\n",
      "[LightGBM] [Warning] No further splits with positive gain, best gain: -inf\n",
      "[LightGBM] [Warning] No further splits with positive gain, best gain: -inf\n",
      "[LightGBM] [Warning] No further splits with positive gain, best gain: -inf\n",
      "[LightGBM] [Warning] No further splits with positive gain, best gain: -inf\n",
      "[LightGBM] [Warning] No further splits with positive gain, best gain: -inf\n",
      "[LightGBM] [Warning] No further splits with positive gain, best gain: -inf\n",
      "[LightGBM] [Warning] No further splits with positive gain, best gain: -inf\n",
      "[LightGBM] [Warning] No further splits with positive gain, best gain: -inf\n",
      "[LightGBM] [Warning] No further splits with positive gain, best gain: -inf\n",
      "[LightGBM] [Warning] No further splits with positive gain, best gain: -inf\n",
      "[LightGBM] [Warning] No further splits with positive gain, best gain: -inf\n",
      "[LightGBM] [Warning] No further splits with positive gain, best gain: -inf\n",
      "[LightGBM] [Warning] No further splits with positive gain, best gain: -inf\n",
      "[LightGBM] [Warning] No further splits with positive gain, best gain: -inf\n",
      "[LightGBM] [Warning] No further splits with positive gain, best gain: -inf\n",
      "[LightGBM] [Warning] No further splits with positive gain, best gain: -inf\n",
      "[LightGBM] [Warning] No further splits with positive gain, best gain: -inf\n",
      "[LightGBM] [Warning] No further splits with positive gain, best gain: -inf\n",
      "[LightGBM] [Warning] No further splits with positive gain, best gain: -inf\n",
      "[LightGBM] [Warning] No further splits with positive gain, best gain: -inf\n",
      "[LightGBM] [Warning] No further splits with positive gain, best gain: -inf\n",
      "[LightGBM] [Warning] No further splits with positive gain, best gain: -inf\n",
      "[LightGBM] [Warning] No further splits with positive gain, best gain: -inf\n",
      "[LightGBM] [Warning] No further splits with positive gain, best gain: -inf\n",
      "[LightGBM] [Warning] No further splits with positive gain, best gain: -inf\n",
      "[LightGBM] [Warning] No further splits with positive gain, best gain: -inf\n",
      "[LightGBM] [Warning] No further splits with positive gain, best gain: -inf\n",
      "[LightGBM] [Warning] No further splits with positive gain, best gain: -inf\n",
      "[LightGBM] [Warning] No further splits with positive gain, best gain: -inf\n",
      "[LightGBM] [Warning] No further splits with positive gain, best gain: -inf\n",
      "[LightGBM] [Warning] No further splits with positive gain, best gain: -inf\n",
      "[LightGBM] [Warning] No further splits with positive gain, best gain: -inf\n",
      "[LightGBM] [Warning] No further splits with positive gain, best gain: -inf\n",
      "Predictions for 'Received OP' on new data using LightGBM Regression:\n",
      "[315779.45118311 315779.45118311 315779.45118311 315779.45118311\n",
      " 315779.45118311]\n",
      "Mean Squared Error (MSE): 613721173.6903449\n",
      "Root Mean Squared Error (RMSE): 24773.396490799256\n",
      "Mean Absolute Error (MAE): 16665.35980508561\n",
      "R-squared (R2): 0.8474595499242477\n"
     ]
    }
   ],
   "source": [
    "\n",
    "scaler = StandardScaler()\n",
    "X_scaled = scaler.fit_transform(X)\n",
    "\n",
    "lgb_model = lgb.LGBMRegressor()\n",
    "\n",
    "lgb_model.fit(X_scaled, y)\n",
    "\n",
    "new_data_scaled = scaler.transform(new_data)\n",
    "\n",
    "new_predictions = lgb_model.predict(new_data_scaled)\n",
    "\n",
    "print(\"Predictions for 'Received OP' on new data using LightGBM Regression:\")\n",
    "print(new_predictions)\n",
    "y_pred = lgb_model.predict(X_test_scaled)\n",
    "\n",
    "mse = mean_squared_error(y_test, y_pred)\n",
    "rmse = np.sqrt(mse)\n",
    "mae = mean_absolute_error(y_test, y_pred)\n",
    "\n",
    "r2 = r2_score(y_test, y_pred)\n",
    "\n",
    "print(\"Mean Squared Error (MSE):\", mse)\n",
    "print(\"Root Mean Squared Error (RMSE):\", rmse)\n",
    "print(\"Mean Absolute Error (MAE):\", mae)\n",
    "print(\"R-squared (R2):\", r2)"
   ]
  },
  {
   "cell_type": "markdown",
   "metadata": {},
   "source": [
    "## XGBoost Model"
   ]
  },
  {
   "cell_type": "code",
   "execution_count": 19,
   "metadata": {},
   "outputs": [],
   "source": [
    "import xgboost as xgb"
   ]
  },
  {
   "cell_type": "code",
   "execution_count": 41,
   "metadata": {},
   "outputs": [
    {
     "name": "stdout",
     "output_type": "stream",
     "text": [
      "Predictions for 'Received OP' on new data using XGBoost Regression:\n",
      "[662919.94 634403.06 484263.75 634976.06 662897.44]\n",
      "Mean Squared Error (MSE): 346060429.1243313\n",
      "Root Mean Squared Error (RMSE): 18602.699511746443\n",
      "Mean Absolute Error (MAE): 11872.252508044632\n",
      "R-squared (R2): 0.9139866508195985\n"
     ]
    }
   ],
   "source": [
    "scaler = StandardScaler()\n",
    "X_scaled = scaler.fit_transform(X)\n",
    "\n",
    "xgb_model = xgb.XGBRegressor()\n",
    "\n",
    "xgb_model.fit(X_scaled, y)\n",
    "\n",
    "new_data_scaled = scaler.transform(new_data)\n",
    "new_predictions = xgb_model.predict(new_data_scaled)\n",
    "\n",
    "print(\"Predictions for 'Received OP' on new data using XGBoost Regression:\")\n",
    "print(new_predictions)\n",
    "y_pred = xgb_model.predict(X_test_scaled)\n",
    "\n",
    "mse = mean_squared_error(y_test, y_pred)\n",
    "\n",
    "rmse = np.sqrt(mse)\n",
    "\n",
    "mae = mean_absolute_error(y_test, y_pred)\n",
    "\n",
    "r2 = r2_score(y_test, y_pred)\n",
    "\n",
    "print(\"Mean Squared Error (MSE):\", mse)\n",
    "print(\"Root Mean Squared Error (RMSE):\", rmse)\n",
    "print(\"Mean Absolute Error (MAE):\", mae)\n",
    "print(\"R-squared (R2):\", r2)"
   ]
  },
  {
   "cell_type": "code",
   "execution_count": null,
   "metadata": {},
   "outputs": [],
   "source": []
  }
 ],
 "metadata": {
  "kernelspec": {
   "display_name": "streamlit",
   "language": "python",
   "name": "python3"
  },
  "language_info": {
   "codemirror_mode": {
    "name": "ipython",
    "version": 3
   },
   "file_extension": ".py",
   "mimetype": "text/x-python",
   "name": "python",
   "nbconvert_exporter": "python",
   "pygments_lexer": "ipython3",
   "version": "3.10.12"
  }
 },
 "nbformat": 4,
 "nbformat_minor": 2
}
